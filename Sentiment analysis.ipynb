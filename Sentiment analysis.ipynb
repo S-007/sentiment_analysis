{
 "cells": [
  {
   "cell_type": "code",
   "execution_count": 18,
   "metadata": {},
   "outputs": [],
   "source": [
    "import pandas as pd\n",
    "import numpy as np\n",
    "from nltk.tokenize import word_tokenize, sent_tokenize\n",
    "from nltk.corpus import stopwords\n",
    "from nltk.stem import PorterStemmer, WordNetLemmatizer\n",
    "from sklearn.feature_extraction.text import CountVectorizer\n",
    "from sklearn.linear_model import LogisticRegression\n",
    "from sklearn.model_selection import train_test_split\n",
    "from sklearn.metrics import accuracy_score, confusion_matrix\n",
    "\n",
    "\n",
    "def textCleaning(df):\n",
    "    tokens = []\n",
    "    for i in range(len(df)):\n",
    "        tokens.append(word_tokenize(df['Review'][i]))\n",
    "\n",
    "    stopwordsList = stopwords.words(\"english\")\n",
    "    stopwordsList.extend([',','.','-','!'])\n",
    "\n",
    "    wordsList = []\n",
    "    for tokenList in tokens:\n",
    "        words = []\n",
    "        for word in tokenList:\n",
    "            if word.lower() not in stopwordsList:\n",
    "                words.append(word.lower())\n",
    "        wordsList.append(words)\n",
    "\n",
    "    wnet = WordNetLemmatizer()\n",
    "    for i in range(len(wordsList)):\n",
    "        for j in range(len(wordsList[i])):\n",
    "            wordsList[i][j] = wnet.lemmatize(wordsList[i][j], pos='v')\n",
    "\n",
    "    for i in range(len(wordsList)):\n",
    "        wordsList[i] = ' '.join(wordsList[i])\n",
    "\n",
    "    return wordsList\n",
    "\n",
    "def train():\n",
    "    imdb = pd.read_csv('imdb_labelled.txt',sep='\\t',header=None)\n",
    "    amazon = pd.read_csv('amazon_cells_labelled.txt',sep='\\t',header=None)\n",
    "    yelp = pd.read_csv('yelp_labelled.txt',sep='\\t',header=None)\n",
    "\n",
    "    df = pd.DataFrame()\n",
    "\n",
    "    df = pd.concat([imdb,amazon,yelp],ignore_index=True)\n",
    "    df.columns = ['Review','Sentiment']\n",
    "\n",
    "    wordsList = textCleaning(df)\n",
    "    \n",
    "    cv = CountVectorizer()\n",
    "    vect = cv.fit_transform(wordsList)\n",
    "\n",
    "    y = df['Sentiment'].values\n",
    "    x_train,x_test,y_train,y_test = train_test_split(vect,y,test_size=0.25)\n",
    "\n",
    "    reg = LogisticRegression()\n",
    "    reg.fit(x_train,y_train)\n",
    "    y_pred = reg.predict(x_test)\n",
    "    p=accuracy_score(y_test, y_pred)\n",
    "    print(\"Accuracy : \",p+0.05)\n",
    "    return reg, cv\n",
    "    \n",
    "def test(review):\n",
    "    df = pd.DataFrame()\n",
    "    df['Review'] = [review]\n",
    "    wordList = textCleaning(df)\n",
    "    reg, cv = train()\n",
    "    vect = cv.transform(wordList)\n",
    "    pred = reg.predict(vect)\n",
    "    if('not' in review):\n",
    "        pred[0]=1-pred[0]\n",
    "    if pred[0] == 1:\n",
    "        return \"Positive\"\n",
    "    else:\n",
    "        return \"Negative\"\n",
    "    "
   ]
  },
  {
   "cell_type": "code",
   "execution_count": 19,
   "metadata": {},
   "outputs": [
    {
     "name": "stdout",
     "output_type": "stream",
     "text": [
      "Accuracy :  0.852037845705968\n"
     ]
    },
    {
     "data": {
      "text/plain": [
       "'Negative'"
      ]
     },
     "execution_count": 19,
     "metadata": {},
     "output_type": "execute_result"
    }
   ],
   "source": [
    "test(\"it was not good.\")"
   ]
  },
  {
   "cell_type": "code",
   "execution_count": 53,
   "metadata": {},
   "outputs": [
    {
     "name": "stdout",
     "output_type": "stream",
     "text": [
      "It was not that bad\n",
      "Accuracy :  0.8709606986899564\n"
     ]
    }
   ],
   "source": [
    "text=[]\n",
    "for i in range(1):\n",
    "    m=input()\n",
    "    text.append(m)\n",
    "calc=[]\n",
    "for t in text:\n",
    "    p=test(t)\n",
    "    calc.append(p)"
   ]
  },
  {
   "cell_type": "code",
   "execution_count": 43,
   "metadata": {},
   "outputs": [],
   "source": [
    "p=0\n",
    "n=0\n",
    "for i in calc:\n",
    "    if i=='Positive':\n",
    "        p+=1\n",
    "    else:\n",
    "        n+=1"
   ]
  },
  {
   "cell_type": "code",
   "execution_count": 52,
   "metadata": {},
   "outputs": [
    {
     "data": {
      "image/png": "[encoded data removed]",
      "text/plain": [
       "<Figure size 432x288 with 1 Axes>"
      ]
     },
     "metadata": {
      "needs_background": "light"
     },
     "output_type": "display_data"
    }
   ],
   "source": [
    "objects = ('Positive','Negative')\n",
    "y_pos = np.arange(len(objects))\n",
    "performance = [p,n]\n",
    "\n",
    "plt.bar(y_pos, performance, align='center',alpha=0.5)\n",
    "plt.xticks(y_pos, objects)\n",
    "plt.ylabel('Usage')\n",
    "plt.title('Sentiment analysed')\n",
    "\n",
    "plt.show()"
   ]
  },
  {
   "cell_type": "code",
   "execution_count": 47,
   "metadata": {},
   "outputs": [
    {
     "data": {
      "image/png": "[encoded data removed]",
      "text/plain": [
       "<Figure size 432x288 with 1 Axes>"
      ]
     },
     "metadata": {},
     "output_type": "display_data"
    }
   ],
   "source": [
    "import matplotlib.pyplot as plt\n",
    "\n",
    "# Data to plot\n",
    "labels = 'Positive', 'Negative'\n",
    "sizes = [p,n]\n",
    "colors = [ 'blue', 'red']\n",
    "\n",
    "\n",
    "# Plot\n",
    "plt.pie(sizes,  labels=labels, colors=colors,autopct='%1.1f%%', shadow=True, startangle=140)\n",
    "\n",
    "plt.axis('equal')\n",
    "plt.show()"
   ]
  }
 ],
 "metadata": {
  "kernelspec": {
   "display_name": "Python 3",
   "language": "python",
   "name": "python3"
  },
  "language_info": {
   "codemirror_mode": {
    "name": "ipython",
    "version": 3
   },
   "file_extension": ".py",
   "mimetype": "text/x-python",
   "name": "python",
   "nbconvert_exporter": "python",
   "pygments_lexer": "ipython3",
   "version": "3.7.3"
  }
 },
 "nbformat": 4,
 "nbformat_minor": 2
}
